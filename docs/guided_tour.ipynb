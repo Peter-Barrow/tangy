{
 "cells": [
  {
   "cell_type": "code",
   "execution_count": 1,
   "id": "121d2d8c-04c4-468b-9704-f7ebdf52ae49",
   "metadata": {
    "editable": true,
    "slideshow": {
     "slide_type": ""
    },
    "tags": []
   },
   "outputs": [],
   "source": [
    "import tangy\n",
    "import numpy as np"
   ]
  },
  {
   "cell_type": "code",
   "execution_count": 2,
   "id": "a47d7652-427a-4a05-a3e7-cf205e2c465b",
   "metadata": {
    "editable": true,
    "slideshow": {
     "slide_type": ""
    },
    "tags": []
   },
   "outputs": [],
   "source": [
    "buffer_len = 10\n",
    "resolution = 1\n",
    "buffer = tangy.TangyBuffer(\"my_buffer\", resolution=resolution, channel_count=2, capacity=buffer_len)"
   ]
  },
  {
   "cell_type": "code",
   "execution_count": 3,
   "id": "e592bc73-a685-4308-9177-1c25fccaf6f0",
   "metadata": {},
   "outputs": [
    {
     "name": "stdout",
     "output_type": "stream",
     "text": [
      "Tangy Buffer:\n",
      "           name : std_my_buffer\n",
      "         format : Standard\n",
      "       capacity : 10\n",
      "          count : 0\n",
      "     resolution : 1.0\n",
      "   clock period : 1.0\n",
      "     #-channels : 2\n",
      "reference_count : 1\n",
      "\n"
     ]
    }
   ],
   "source": [
    "print(buffer)"
   ]
  },
  {
   "cell_type": "code",
   "execution_count": 4,
   "id": "f4870c2c-b228-4f90-98b6-16af5626fd49",
   "metadata": {
    "editable": true,
    "slideshow": {
     "slide_type": ""
    },
    "tags": []
   },
   "outputs": [
    {
     "name": "stdout",
     "output_type": "stream",
     "text": [
      "[0 1 0 1 0 1 0 1 0 1]\n",
      "[10 11 20 21 30 31 40 41 50 51]\n"
     ]
    }
   ],
   "source": [
    "channels = np.zeros(buffer_len, dtype=np.uint8)\n",
    "timestamps = np.zeros(buffer_len, dtype=np.uint64)\n",
    "clock_period = 10\n",
    "running_clock = 0\n",
    "for i in range(len(channels) // 2):\n",
    "    j = 2 * i\n",
    "    channels[j] = 0\n",
    "    channels[j + 1] = 1\n",
    "    running_clock += clock_period\n",
    "    timestamps[j] = running_clock\n",
    "    timestamps[j + 1] = running_clock + 1\n",
    "\n",
    "print(channels)\n",
    "print(timestamps)"
   ]
  },
  {
   "cell_type": "code",
   "execution_count": 5,
   "id": "611009fc-2643-48d1-8b0b-b2d62b42319c",
   "metadata": {},
   "outputs": [],
   "source": [
    "tags_pushed = buffer.push(channels, timestamps)\n",
    "assert tags_pushed == len(channels)"
   ]
  },
  {
   "cell_type": "code",
   "execution_count": 6,
   "id": "db10feee-bd22-4d1e-9405-928c94193c7a",
   "metadata": {},
   "outputs": [
    {
     "name": "stdout",
     "output_type": "stream",
     "text": [
      "First index is, 0, last index is 9\n"
     ]
    }
   ],
   "source": [
    "print(f\"First index is, {buffer.begin}, last index is {buffer.end}\")"
   ]
  },
  {
   "cell_type": "code",
   "execution_count": 7,
   "id": "497d334b-9ca8-434a-9e8e-465126e41aef",
   "metadata": {},
   "outputs": [
    {
     "name": "stdout",
     "output_type": "stream",
     "text": [
      "Expected 41.0s in the buffer and have 41.0s\n"
     ]
    }
   ],
   "source": [
    "(channel_oldest, timetag_oldest) = buffer[buffer.begin]\n",
    "(channel_newest, timetag_newest) = buffer[buffer.end]\n",
    "\n",
    "difference = (timetag_newest - timetag_oldest) * buffer.resolution\n",
    "\n",
    "print(f\"Expected {difference}s in the buffer and have {buffer.time_in_buffer()}s\")"
   ]
  },
  {
   "cell_type": "code",
   "execution_count": null,
   "id": "1ba47b9d-680a-45fa-85f4-ece85ee5a293",
   "metadata": {},
   "outputs": [],
   "source": []
  }
 ],
 "metadata": {
  "kernelspec": {
   "display_name": "Python 3 (ipykernel)",
   "language": "python",
   "name": "python3"
  },
  "language_info": {
   "codemirror_mode": {
    "name": "ipython",
    "version": 3
   },
   "file_extension": ".py",
   "mimetype": "text/x-python",
   "name": "python",
   "nbconvert_exporter": "python",
   "pygments_lexer": "ipython3",
   "version": "3.9.13"
  }
 },
 "nbformat": 4,
 "nbformat_minor": 5
}
